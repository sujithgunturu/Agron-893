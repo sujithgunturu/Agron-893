{
  "nbformat": 4,
  "nbformat_minor": 0,
  "metadata": {
    "colab": {
      "name": "EBT_jacobean.ipynb",
      "provenance": [],
      "collapsed_sections": [],
      "authorship_tag": "ABX9TyMmgNpw/QhVRzh/EUsnZPSI",
      "include_colab_link": true
    },
    "kernelspec": {
      "name": "python3",
      "display_name": "Python 3"
    },
    "language_info": {
      "name": "python"
    }
  },
  "cells": [
    {
      "cell_type": "markdown",
      "metadata": {
        "id": "view-in-github",
        "colab_type": "text"
      },
      "source": [
        "<a href=\"https://colab.research.google.com/github/sujithgunturu/Agron-893/blob/master/EBT_jacobean.ipynb\" target=\"_parent\"><img src=\"https://colab.research.google.com/assets/colab-badge.svg\" alt=\"Open In Colab\"/></a>"
      ]
    },
    {
      "cell_type": "code",
      "metadata": {
        "id": "xDRqGY_lk1Tx"
      },
      "source": [
        "%matplotlib inline\n",
        "import pandas as pd                    # Import pandas for reading env data\n",
        "import numpy as np                     # Import array funtions\n",
        "import math                            # Import all math functions\n",
        "import matplotlib.pyplot as plt        # Import plotting functions\n",
        "import ephem as em                     # Import pyephem to get daylight data\n",
        "from datetime import *   \n",
        "import autograd.numpy as np\n",
        "import matplotlib.pyplot as plt\n",
        "from scipy.interpolate import pchip\n",
        "from scipy.integrate import odeint, RK45,ode\n",
        "import scipy.linalg as sla\n",
        "from autograd import grad, jacobian\n",
        "from scipy.cluster.vq import kmeans2\n",
        "import time\n",
        "from time import perf_counter\n",
        "import autograd"
      ],
      "execution_count": 65,
      "outputs": []
    },
    {
      "cell_type": "code",
      "metadata": {
        "id": "Qb-Ars9jmrNs"
      },
      "source": [
        "\"\"\"Model Class Definition\"\"\"\n",
        "class Model(object):\n",
        "    \n",
        "    #Attributes we want each instance of model to have\n",
        "    def __init__(self,Eqns):\n",
        "        self.Eqns = Eqns  #\n",
        "        #self.n_var = len(Eqns)\n",
        "        self.solution=[]  # creates a new empty list for each model\n",
        "        self.params=None   # Initialize parameter values\n",
        "        \n",
        "        self.y0=None      # Initialze initial state variables\n",
        "        \n",
        "        self.t=None       # Initialie array of times at which solutions are sought\n",
        "        \n",
        "        self.Env=None     # Set flag that the simulation environment is not yet defined\n",
        "                          #    When it is, it will most likely be an array with one\n",
        "                          #    row per measurement time and one column per environmental\n",
        "                          #    variable.\n",
        "        self.day_length=None\n",
        "        \n",
        "                    \n",
        "    # Store a vector of desired solution times\n",
        "    def new_soltimes(self,t):\n",
        "        self.t=np.array(t)\n",
        "    \n",
        "    # Store a vector of desired state variable initial conditions\n",
        "    def new_ICs(self,y0):\n",
        "        self.y0=np.array(y0)\n",
        "    \n",
        "    # Store a vector of model parameters - this is used during parameter estimation\n",
        "    def new_params(self,params):\n",
        "        self.params=np.array(params)\n",
        "        \n",
        "    \n",
        "    \"\"\" The following two methods are overloaded in the users class definition \"\"\"\n",
        "    \n",
        "    # Fetch the environmental information from a file.  \"Environ\" is \n",
        "    # whatever information is needed to do this.\n",
        "    def FetchEnviron(self,Environ):\n",
        "        pass\n",
        "        \n",
        "    \n",
        "  \n",
        "    def GetEnvData(self,t):\n",
        "        self.Edat=np.zeros(9)\n",
        "        \n",
        "        \n",
        "    # Run the model\n",
        "    def Run(self,ICs=None,params=None,t=None,Environ=None):\n",
        "        \n",
        "        # Perform any needed initializations\n",
        "        if ICs is not None    : self.new_ICs(ICs)\n",
        "        if params is not None : self.new_params(params)\n",
        "        if t is not None      : self.new_soltimes(t)\n",
        "        if Environ is not None: self.FetchEnviron(Environ)\n",
        "        self.t = np.linspace(0, 100, 100)\n",
        "        \n",
        "        \n",
        "        # if self.params is None or self.y0 is None or self.t is None or self.Env is None:\n",
        "        #     raise Exception(\"Prequisite data for run is incomplete\")\n",
        "        \n",
        "        # Define the function that is passed to odeint\n",
        "        self.count = 0\n",
        "        def deriv(y,t,model):\n",
        "            \n",
        "            # Obtain the environmental data for this value of t\n",
        "            #self.Edat\n",
        "            # Compute required derivatives.  This will entail using data that\n",
        "            # should be ready and waiting in model.par and model.Edat\n",
        "\n",
        "            return model.Eqns(t, y, model.params, model)\n",
        "            \n",
        "\n",
        "\n",
        "        # Call odeint to itegrate diffeq system.  All the odeint arguments are shown\n",
        "        # here in case we want to modify something in a future version.  (It is, perhaps,\n",
        "        # noteworthy that some of the extra parameters apparenly specify the order of \n",
        "        # integration to be peformed.)\n",
        "        \n",
        "        return odeint(deriv,           # Computes the derivative of y at t\n",
        "                      self.y0,         # Initial condition on y (can be a vector) \n",
        "                      self.t,          # The time points for which to solve for y\n",
        "                      args=(self,),    # Extra arguments to pass to function (self reference to\n",
        "                                       #   this model instance)\n",
        "                      Dfun=None,       # Gradient (Jacobian) of func \n",
        "                      col_deriv=0,     # True if Dfun defines derivatives down columns\n",
        "                      full_output=0,   # True if to return a dictionary of \n",
        "                                       #   optional outputs as the second output\n",
        "                      printmessg=0,    # Whether to print the convergence message\n",
        "                      tfirst=False,    # If True, the first two arguments of func \n",
        "                                       #   (and Dfun, if given) must t, y\n",
        "                                \n",
        "        #  See https://docs.scipy.org/doc/scipy/reference/generated/scipy.integrate.odeint.html\n",
        "        #     ror the definition of these arguments\n",
        "        \n",
        "                      ml=None,           \n",
        "                      mu=None, \n",
        "                      rtol=None, \n",
        "                      atol=None, \n",
        "                      tcrit=None, \n",
        "                      h0=0.0, \n",
        "                      hmax=0.0, \n",
        "                      hmin=0.0, \n",
        "                      ixpr=0, \n",
        "                      mxstep=0, \n",
        "                      mxhnil=0, \n",
        "                      mxordn=12, \n",
        "                      mxords=5, \n",
        "                      )"
      ],
      "execution_count": 66,
      "outputs": []
    },
    {
      "cell_type": "code",
      "metadata": {
        "id": "jBvLzvp4mtK7"
      },
      "source": [
        "class mark_0_wheat(Model):\n",
        "    def __init__(self,Eqns):\n",
        "        Model.__init__(self,Eqns)\n",
        "        #self.n_var = Model.n_var\n",
        "    def FetchEnviron(self, Environ):\n",
        "        self.start_date = Environ[0]\n",
        "        self.end_date = Environ[1]\n",
        "        file = Environ[2]\n",
        "    \n",
        "        # reading the data\n",
        "        w = pd.read_csv(file)\n",
        "\n",
        "        # change this data into a numpy array to use the where function\n",
        "        day_data = np.asarray(w)\n",
        "    \n",
        "        #find row index of selected start and stop dates, here we choose April 1st through November 11th\n",
        "        start_index = int(np.where(day_data == self.start_date)[0])\n",
        "        stop_index = int(np.where(day_data == self.end_date)[0])\n",
        "\n",
        "        \n",
        "        self.Env = day_data[start_index:stop_index+1, 2:].astype(np.float)\n",
        "        \n",
        "        self.t = np.arange(0,len(self.Env))          \n",
        "        \n",
        "        self.loc_data = self.Env\n",
        "      \n",
        "        self.T_avg  = pchip(self.t,(self.loc_data[:,0] + self.loc_data[:,1])/2)  #average temperature per day (max+min)/2\n",
        "                                                                                 #use the pchip command to interpolate the\n",
        "        self.I = pchip(self.t,(self.loc_data[:,-3])*0.0864)                      #the data since odeint takes noninteger vals\n",
        "        \n",
        "        self.Edat = [self.T_avg, self.I]\n",
        "        \n",
        "        def rhs(self, X, t):\n",
        "            dTT = dtt(X, t) \n",
        "            dLAI = dlai(X, t)\n",
        "            dB = dcho(X, t)       \n",
        "            return np.array([dTT, dLAI, dB])\n"
      ],
      "execution_count": 67,
      "outputs": []
    },
    {
      "cell_type": "code",
      "metadata": {
        "id": "NZV77Lyz00mx"
      },
      "source": [
        "class Build_Jacobean(Model):\n",
        "    def __init__(self, system, statevars, statevars0, parameters, paramvalues):\n",
        "      self.system = system\n",
        "      self.statevars = statevars\n",
        "      self.statevars0 = statevars0\n",
        "      self.parameters = parameters\n",
        "      self.paramvalues = paramvalues\n",
        "\n",
        "    def Run_Model(self, environ, t):\n",
        "        self.Modelinstace=self.Modelinstace= mark_0_wheat(self.system)\n",
        "        self.Modelinstace.new_ICs(self.statevars0[:len(self.statevars)])\n",
        "        self.Modelinstace.new_soltimes(t)\n",
        "        self.Modelinstace.new_params(self.paramvalues)\n",
        "        self.Modelinstace.FetchEnviron(environ)\n",
        "\n",
        "        Jac_X = autograd.jacobian(self.system,argnum=1)\n",
        "        Jac_P = autograd.jacobian(self.system,argnum=2)\n",
        "        \n",
        "        P = self.paramvalues\n",
        "        n_vars = len(self.statevars)\n",
        "        n_params = len(self.parameters)\n",
        "        n_depend = n_vars*n_params\n",
        "        def rhs_fn(X,t):                                    #for odeint\n",
        "        #def rhs_fn(t,X):                                   #for solve_ivp\n",
        "            # split into variables and parameter derivatives\n",
        "            Xv = X[:n_vars]\n",
        "            Xd = X[n_vars:].reshape((n_vars,n_params))\n",
        "\n",
        "          # initialize the derivative vector\n",
        "            d = np.zeros_like(X)\n",
        "            # copy the original ODE part\n",
        "            d[:n_vars] = self.system(t,Xv,P, self.Modelinstace)\n",
        "            JX = Jac_X(t, np.array(Xv), np.array(P), self.Modelinstace)\n",
        "            JP = Jac_P(t, np.array(Xv), np.array(P), self.Modelinstace)\n",
        "            # find the RHS for the parameter derivatives and reflatten to a vector\n",
        "            d[n_vars:] = (JX.dot(Xd) + JP).flatten()\n",
        "\n",
        "            return d\n",
        "        # initial conditions\n",
        "        x0 = self.statevars0\n",
        "        # solve the odes\n",
        "        \n",
        "        #soln = solve_ivp(rhs_fn, (t[0],t[-1]), x0, t_eval=t)\n",
        "        self.solution = odeint(rhs_fn, x0, t)\n",
        "        \n",
        "        return self.solution\n",
        "    def plotjacobeans(self):\n",
        "      plt.plot(self.solution[:, :len(self.statevars)])\n",
        "      plt.show()\n",
        "      for i in range(len(self.statevars)):\n",
        "        plt.figure()\n",
        "        plt.title(self.statevars[i])\n",
        "        plt.plot(solution[:, len(self.statevars) + i*len(self.parameters): len(self.statevars) + i*len(self.parameters) + len(self.parameters)])\n",
        "        forlabel = []\n",
        "        for param in self.parameters:\n",
        "          forlabel.append(str(self.statevars[i]) +\"_\"+ str(param))\n",
        "        plt.legend(forlabel)\n",
        "        plt.show()\n",
        "\n",
        "\n",
        "    "
      ],
      "execution_count": 68,
      "outputs": []
    },
    {
      "cell_type": "code",
      "metadata": {
        "id": "gM3GfBNPmwQA"
      },
      "source": [
        "T_base =  0\n",
        "alpha =   1.0125e-4\n",
        "LAImax =  7.0\n",
        "TTL =       21600/24\n",
        "RUE =     1.5\n",
        "K =       0.7\n",
        "TTM =    43200/24\n",
        "transition_period = 2 #time needed for lai and cho to transition to no growth\n",
        "lai_transition_tt = 20*transition_period  #thermal time needed for lai transition to no growth\n",
        "cho_transition_tt = 28*transition_period  #thermal time needed for cho transition to no growth\n",
        "\n",
        "paramvals=np.array([T_base, alpha, LAImax, TTL, RUE, K, TTM, transition_period, lai_transition_tt, cho_transition_tt])\n",
        "ICs = [0.1, 0.1, 0.1]"
      ],
      "execution_count": 69,
      "outputs": []
    },
    {
      "cell_type": "code",
      "metadata": {
        "id": "w27xfrojmx8E"
      },
      "source": [
        ""
      ],
      "execution_count": 69,
      "outputs": []
    },
    {
      "cell_type": "code",
      "metadata": {
        "id": "-AP3JWA8m1z2"
      },
      "source": [
        "def rhs(t, X, P, model):\n",
        "  TT, LAI, CHO = X\n",
        "  T_base, alpha, LAImax, TTL, RUE, K, TTM, transition_period, lai_transition_tt, cho_transition_tt = P\n",
        "  dTT = model.T_avg(t)\n",
        "  dLAI = alpha*model.T_avg(t)*LAI*(LAImax - LAI)*(-1/2)*(np.tanh(((TT-TTL))/lai_transition_tt)-1)\n",
        "  dCHO = RUE*(1-np.exp(-K*LAI))*model.I(t)*(-1/2)*(np.tanh((TT-TTM)/cho_transition_tt) - 1)\n",
        "  return np.array([dTT, dLAI, dCHO])  "
      ],
      "execution_count": 70,
      "outputs": []
    },
    {
      "cell_type": "code",
      "metadata": {
        "colab": {
          "base_uri": "https://localhost:8080/",
          "height": 265
        },
        "id": "3okXb0T_1ouE",
        "outputId": "9fa32af2-a19c-4f60-dfe9-05a9365d38eb"
      },
      "source": [
        "wheat= mark_0_wheat(rhs)\n",
        "wheat.new_ICs(ICs)\n",
        "t = np.linspace(0, 100, 100)\n",
        "wheat.new_soltimes(t)\n",
        "wheat.new_params(paramvals)\n",
        "OurEnv = ('2018-04-01','2018-10-01','weather18.csv') \n",
        "# OurEnv = ('weather18.csv', )\n",
        "wheat.FetchEnviron(OurEnv)\n",
        "soln = wheat.Run()\n",
        "import matplotlib.pyplot as plt\n",
        "_ = plt.plot(soln)"
      ],
      "execution_count": 71,
      "outputs": [
        {
          "output_type": "display_data",
          "data": {
            "image/png": "[encoded data removed]",
            "text/plain": [
              "<Figure size 432x288 with 1 Axes>"
            ]
          },
          "metadata": {
            "tags": [],
            "needs_background": "light"
          }
        }
      ]
    },
    {
      "cell_type": "code",
      "metadata": {
        "id": "D5C2YyAp0qUq"
      },
      "source": [
        "variables = ('TT','LAI', 'CHO')\n",
        "parameters  = ('T_base', 'alpha', 'LAImax', 'TTL', 'RUE', 'K', 'TTM', 'transition_period', 'lai_transition_tt', 'cho_transition_tt')"
      ],
      "execution_count": 72,
      "outputs": []
    },
    {
      "cell_type": "code",
      "metadata": {
        "colab": {
          "base_uri": "https://localhost:8080/",
          "height": 265
        },
        "id": "nTsySHwq1kq1",
        "outputId": "d6f11dfb-f5c0-490f-c9e9-0007b087c16d"
      },
      "source": [
        "params0 = [0.]*len(variables)*len(parameters)\n",
        "t = np.linspace(0., 100., 100)\n",
        "sweetjacobean  = Build_Jacobean(rhs, variables, ICs + params0, parameters, paramvals)\n",
        "solution = sweetjacobean.Run_Model(('2018-04-01','2018-10-01','weather18.csv') , t) \n",
        "_ = plt.plot(solution)"
      ],
      "execution_count": 73,
      "outputs": [
        {
          "output_type": "display_data",
          "data": {
            "image/png": "[encoded data removed]",
            "text/plain": [
              "<Figure size 432x288 with 1 Axes>"
            ]
          },
          "metadata": {
            "tags": [],
            "needs_background": "light"
          }
        }
      ]
    },
    {
      "cell_type": "code",
      "metadata": {
        "colab": {
          "base_uri": "https://localhost:8080/",
          "height": 1000
        },
        "id": "SyXuxFkh3y_n",
        "outputId": "12270b94-344a-48fd-ec47-e6189f720c9a"
      },
      "source": [
        "sweetjacobean.plotjacobeans()"
      ],
      "execution_count": 74,
      "outputs": [
        {
          "output_type": "display_data",
          "data": {
            "image/png": "[encoded data removed]",
            "text/plain": [
              "<Figure size 432x288 with 1 Axes>"
            ]
          },
          "metadata": {
            "tags": [],
            "needs_background": "light"
          }
        },
        {
          "output_type": "display_data",
          "data": {
            "image/png": "[encoded data removed]",
            "text/plain": [
              "<Figure size 432x288 with 1 Axes>"
            ]
          },
          "metadata": {
            "tags": [],
            "needs_background": "light"
          }
        },
        {
          "output_type": "display_data",
          "data": {
            "image/png": "[encoded data removed]",
            "text/plain": [
              "<Figure size 432x288 with 1 Axes>"
            ]
          },
          "metadata": {
            "tags": [],
            "needs_background": "light"
          }
        },
        {
          "output_type": "display_data",
          "data": {
            "image/png": "[encoded data removed]",
            "text/plain": [
              "<Figure size 432x288 with 1 Axes>"
            ]
          },
          "metadata": {
            "tags": [],
            "needs_background": "light"
          }
        }
      ]
    },
    {
      "cell_type": "code",
      "metadata": {
        "id": "FN8SRMev5WPU"
      },
      "source": [
        "class Generate_Fisher_Matrix(Build_Jacobean):\n",
        "    def __init__(self, environments=[[]],covmatrix=None, betavector=0, w=np.linspace(0, 100, 100)):\n",
        "\n",
        "        self.Build_Jacobean_instance = Build_Jacobean(rhs,variables, ICs + params0, parameters, paramvals)\n",
        "        self.environments = environments\n",
        "        self.covmatrix = np.array(covmatrix)\n",
        "        self.betavector = np.array(betavector)\n",
        "        self.w = w\n",
        "    def Simulate(self, ICs, paramvals, t):\n",
        "        simulation = []\n",
        "        for environment in self.environments:\n",
        "          soln = self.Build_Jacobean_instance.Run_Model(environment, t)\n",
        "          simulation.append(soln)\n",
        "        self.simulation = np.array(simulation)\n",
        "        return self.simulation\n",
        "       \n",
        "    def Residuals(self, i):\n",
        "        mean = [0.]*self.covmatrix.shape[0]\n",
        "        modeloutput_i = self.simulation[0][i, :len(ICs)]\n",
        "        diagonalmatrix_beta_2 =  np.diag(np.power(modeloutput_i, self.betavector/2))\n",
        "        res = diagonalmatrix_beta_2@np.linalg.inv(self.covmatrix)@diagonalmatrix_beta_2\n",
        "        self.randomvectors = np.random.multivariate_normal(mean, res, len(w)) \n",
        "         \n",
        "        return self.randomvectors\n",
        "        \n",
        "\n",
        "    def du_dr_i(self,i):\n",
        "        summationarray = []\n",
        "        q = self.covmatrix.shape[0]\n",
        "        \n",
        "        for index1 in range(q):\n",
        "          for index2 in range(q):\n",
        "            m1 = np.power(self.simulation[0][i][index1], (self.betavector/2))\n",
        "            m2 = np.power(self.simulation[0][i][index1], (self.betavector/2))\n",
        "            v = np.linalg.inv(self.covmatrix)\n",
        "            m = m1 * m2\n",
        "            #for l in range(q):\n",
        "              #do something\n",
        "            r = self.Residuals(i)[i]\n",
        "            prod =   m*v[index1][index2]*r\n",
        "          summationarray.append(prod)\n",
        "        self.dudri = np.sum(summationarray, axis = 1)\n",
        "        return self.dudri \n",
        "\n",
        "    def da_dth8_k_div_a(self, k, i):\n",
        "         q = self.covmatrix.shape[0]\n",
        "         term = 0.5 * (2 * np.pi)**q/2 * np.linalg.det((np.linalg.inv(self.covmatrix)))**-0.5 \n",
        "         #dmdthetaarr = self.simulation[0][i][len(ICs)+k::len(paramvals)]\n",
        "         dmdthetaarr = self.simulation[0][i][len(ICs):].reshape((-1, len(paramvals)))[:, k]\n",
        "         summationarray = []\n",
        "         \n",
        "         for index in range(q):\n",
        "           summationarray.append(dmdthetaarr[index]/self.simulation[0][i][index])\n",
        "         \n",
        "         self.dudth8kdiva = term *np.sum(summationarray)\n",
        "         \n",
        "         return self.dudth8kdiva\n",
        "   \n",
        "    def du_dth8_k(self, k, i):\n",
        "        summation = []\n",
        "        q = self.covmatrix.shape[0]\n",
        "        #dmdthetaarr = self.simulation[0][k][len(ICs):]\n",
        "        # dmdthetaarr = self.simulation[0][i][len(ICs)+k::len(paramvals)]\n",
        "        dmdthetaarr = self.simulation[0][i][len(ICs):].reshape((-1, len(paramvals)))[:, k]\n",
        "        for index1 in range(q):\n",
        "          for index2 in range(q):\n",
        "            beta_xi = self.betavector[index1]\n",
        "            #should do the inverse or T\n",
        "            m_xi_beta_inv = np.power(self.simulation[0][i][:q], self.betavector/2)[index1]\n",
        "            dmdtheta_xi = dmdthetaarr[index1]\n",
        "            m_sigma_beta = np.power(self.simulation[0][i][:q], self.betavector/2)[index2]\n",
        "            \n",
        "            \n",
        "            beta_sigma = self.betavector[index2]\n",
        "            m_sigma_beta_inv = np.power(self.simulation[0][i][:q], self.betavector/2)[index2]\n",
        "            dmdtheta_sigma = dmdthetaarr[index2]\n",
        "            m_xi_beta = np.power(self.simulation[0][i][:q], self.betavector/2)[index1]\n",
        "            \n",
        "            term = (( (beta_xi * m_xi_beta_inv * dmdtheta_xi * m_sigma_beta)) \n",
        "            + ( m_sigma_beta_inv  * m_xi_beta )) * self.Residuals(i)[i][index1] * self.Residuals(i)[i][index2] * np.linalg.inv(self.covmatrix)[index1][index2]\n",
        "            \n",
        "            summation.append(term)\n",
        "        \n",
        "            self.dudth8k = -1 * 0.25 *np.sum(summation)\n",
        "            return self.dudth8k\n",
        "\n",
        "\n",
        "    def dS_dth8_k(self, k, i):\n",
        "        term1 = self.du_dr_i(i) @ self.simulation[0][i][len(ICs)+k::len(paramvals)]\n",
        "        term2 = self.da_dth8_k_div_a(k, i)\n",
        "        term3 = self.du_dth8_k(k, i)\n",
        "\n",
        "        return term1 + term2 + term3\n",
        "\n",
        "    def S_matrix(self):\n",
        "        matrix = []\n",
        "        largematrix = []\n",
        "        for i in range(len(self.w)):\n",
        "          dudr = self.du_dr_i(i)\n",
        "          for k in range(len(parameters)):\n",
        "            #dadthdiva = self.da_dth8_k_div_a(k, i)\n",
        "            #dudthk = self.du_dth8_k(k, i)\n",
        "            \n",
        "            dSdth8k = self.dS_dth8_k(k, i)\n",
        "            print(dSdth8k)\n",
        "            matrix.append([dSdth8k])\n",
        "          matrix = np.array(matrix)\n",
        "          hmatrix = matrix @ matrix.T\n",
        "          matrix = []\n",
        "          largematrix.append(hmatrix)\n",
        "        result = np.sum(largematrix, axis = 0)\n",
        "        return result\n",
        "\n",
        "class Analyse_S_matrix:\n",
        "    def __init__(self, model):\n",
        "        self.S_Matrix_fisher = model.S_matrix()\n",
        "    def S_test(self):\n",
        "        return np.linalg.det(self.S_Matrix_fisher) == 0\n",
        "    def Ortho_Null(self, S):\n",
        "        pass\n"
      ],
      "execution_count": 75,
      "outputs": []
    },
    {
      "cell_type": "code",
      "metadata": {
        "colab": {
          "base_uri": "https://localhost:8080/",
          "height": 265
        },
        "id": "bkqr4JMw5cwN",
        "outputId": "f1840529-4004-4836-f593-f310d8bd6a15"
      },
      "source": [
        "# environments = [['Weather_data_2020.csv'], ['Weather_data_2020.csv']]\n",
        "a = np.diag([5,5,5])\n",
        "beta = np.zeros(3)\n",
        "environments = [('2018-04-01','2018-10-01','weather18.csv') ]\n",
        "w = np.linspace(0, 100, 100)\n",
        "osufisher = Generate_Fisher_Matrix(environments, a,betavector=beta,w=w)\n",
        "simulation = osufisher.Simulate(ICs, paramvals, w)\n",
        "_ = plt.plot(simulation[0])"
      ],
      "execution_count": 76,
      "outputs": [
        {
          "output_type": "display_data",
          "data": {
            "image/png": "[encoded data removed]",
            "text/plain": [
              "<Figure size 432x288 with 1 Axes>"
            ]
          },
          "metadata": {
            "tags": [],
            "needs_background": "light"
          }
        }
      ]
    },
    {
      "cell_type": "code",
      "metadata": {
        "id": "OlVOokYH5qmm"
      },
      "source": [
        "print(osufisher.du_dr_i(9))\n",
        "print(osufisher.da_dth8_k_div_a(0, 70))\n",
        "print(osufisher.du_dth8_k(0, 30))\n",
        "print(osufisher.dS_dth8_k(0, 30))\n",
        "print(osufisher.Residuals(1))"
      ],
      "execution_count": null,
      "outputs": []
    },
    {
      "cell_type": "code",
      "metadata": {
        "id": "IsT3KGKi5vnv"
      },
      "source": [
        "S = osufisher.S_matrix()\n",
        "S"
      ],
      "execution_count": null,
      "outputs": []
    },
    {
      "cell_type": "code",
      "metadata": {
        "id": "VtkntalE5yFI"
      },
      "source": [
        "np.linalg.det(S)"
      ],
      "execution_count": null,
      "outputs": []
    },
    {
      "cell_type": "code",
      "metadata": {
        "id": "WEAB4Qw_85lP"
      },
      "source": [
        ""
      ],
      "execution_count": 79,
      "outputs": []
    }
  ]
}